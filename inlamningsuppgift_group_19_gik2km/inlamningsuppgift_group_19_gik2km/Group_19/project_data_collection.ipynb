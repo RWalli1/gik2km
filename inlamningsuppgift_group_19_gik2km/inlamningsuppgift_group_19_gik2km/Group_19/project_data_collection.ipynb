{
 "cells": [
  {
   "cell_type": "markdown",
   "metadata": {},
   "source": [
    "## Imports"
   ]
  },
  {
   "cell_type": "code",
   "execution_count": null,
   "metadata": {},
   "outputs": [],
   "source": [
    "import pandas as pd\n",
    "import seaborn as sns\n",
    "import matplotlib.pyplot as plt\n",
    "import numpy as np\n",
    "import csv \n",
    "import requests\n",
    "import json\n",
    "import datetime\n",
    "import time"
   ]
  },
  {
   "cell_type": "markdown",
   "metadata": {},
   "source": [
    "## Fetching data for analysis"
   ]
  },
  {
   "cell_type": "code",
   "execution_count": null,
   "metadata": {},
   "outputs": [],
   "source": [
    "response = requests.get('https://api.pokemontcg.io/v2/cards')"
   ]
  },
  {
   "cell_type": "code",
   "execution_count": null,
   "metadata": {},
   "outputs": [],
   "source": [
    "# Initialize an empty list to store all cards\n",
    "all_cards = []\n",
    "\n",
    "# Loop through all pages\n",
    "for page in range(1, 71):\n",
    "    # Specify the page number and page size\n",
    "    params = {\n",
    "        'page': page,  # Page number\n",
    "        'pageSize': 250  # Number of results per page\n",
    "    }\n",
    "\n",
    "    # Make the request\n",
    "    response = requests.get('https://api.pokemontcg.io/v2/cards', params=params)\n",
    "    \n",
    "    # Check if the request was successful\n",
    "    if response.status_code == 200:\n",
    "        # Add the cards from this page to the list\n",
    "        all_cards.extend(response.json()['data'])\n",
    "    else:\n",
    "        print(f\"Failed to retrieve page {page}\")\n",
    "\n",
    "    # Wait for a short period to avoid hitting rate limits\n",
    "    time.sleep(1)\n",
    "\n",
    "# Now all_cards contains the cards from all pages"
   ]
  },
  {
   "cell_type": "code",
   "execution_count": 23,
   "metadata": {},
   "outputs": [
    {
     "data": {
      "text/plain": [
       "17500"
      ]
     },
     "execution_count": 23,
     "metadata": {},
     "output_type": "execute_result"
    }
   ],
   "source": [
    "len(all_cards)"
   ]
  },
  {
   "cell_type": "code",
   "execution_count": 25,
   "metadata": {},
   "outputs": [
    {
     "data": {
      "text/plain": [
       "17500"
      ]
     },
     "execution_count": 25,
     "metadata": {},
     "output_type": "execute_result"
    }
   ],
   "source": [
    "#response_data = all_cards\n",
    "# Only 250 cards are returned by the API. Just first page.\n",
    "#cards = response_data['data']\n",
    "cards = all_cards\n",
    "len(cards)"
   ]
  },
  {
   "cell_type": "code",
   "execution_count": 26,
   "metadata": {},
   "outputs": [
    {
     "data": {
      "text/plain": [
       "dict_keys(['id', 'name', 'supertype', 'subtypes', 'hp', 'types', 'evolvesFrom', 'attacks', 'weaknesses', 'resistances', 'retreatCost', 'convertedRetreatCost', 'set', 'number', 'artist', 'rarity', 'flavorText', 'nationalPokedexNumbers', 'legalities', 'images', 'tcgplayer', 'cardmarket'])"
      ]
     },
     "execution_count": 26,
     "metadata": {},
     "output_type": "execute_result"
    }
   ],
   "source": [
    "cards[0].keys()"
   ]
  },
  {
   "cell_type": "code",
   "execution_count": null,
   "metadata": {},
   "outputs": [],
   "source": [
    "type_mapping = {\n",
    "    \"Colorless\": 1,\n",
    "    \"Darkness\": 2,\n",
    "    \"Dragon\": 3,\n",
    "    \"Fairy\": 4,\n",
    "    \"Fighting\": 5,\n",
    "    \"Fire\": 6,\n",
    "    \"Grass\": 7,\n",
    "    \"Lightning\": 8,\n",
    "    \"Metal\": 9,\n",
    "    \"Psychic\": 10,\n",
    "    \"Water\": 11\n",
    "}"
   ]
  },
  {
   "cell_type": "code",
   "execution_count": null,
   "metadata": {},
   "outputs": [],
   "source": [
    "\n",
    "clean_cards = []\n",
    "\n",
    "for card in cards:\n",
    "    try: \n",
    "        clean_card_row = {}\n",
    "        clean_card_row[\"name\"] = card[\"name\"]\n",
    "        clean_card_row[\"hp\"] = card[\"hp\"]\n",
    "        clean_card_row[\"average_price\"] = card[\"cardmarket\"][\"prices\"][\"averageSellPrice\"] # in dollars.\n",
    "        clean_card_row[\"age\"] = card.get(\"set\", {}).get(\"releaseDate\", \"No release date available\")\n",
    "        clean_card_row[\"converted_retreat_cost\"] = card[\"convertedRetreatCost\"]\n",
    "        clean_card_row['pokedex_nr'] = card['nationalPokedexNumbers'][0]\n",
    "        clean_card_row[\"type\"] = type_mapping.get(card[\"types\"][0],0)\n",
    "        # Calculate age of card in days\n",
    "        release_date = datetime.datetime.strptime(clean_card_row[\"age\"], \"%Y/%m/%d\").date()  \n",
    "        # Get today's date\n",
    "        today = datetime.date.today()\n",
    "        clean_card_row[\"age\"] = (today - release_date).days\n",
    "        # get damage, so we take the mean of the attacks. \n",
    "        damage = 0\n",
    "        converted_energy_cost = 0\n",
    "        for attack in card[\"attacks\"]:\n",
    "            damage_str = ''.join(filter(str.isdigit, attack[\"damage\"]))\n",
    "            if not damage_str:\n",
    "                continue\n",
    "            damage += int(damage_str)\n",
    "            converted_energy_cost += int(attack[\"convertedEnergyCost\"])\n",
    "\n",
    "        clean_card_row[\"damage\"] = round(damage / len(card[\"attacks\"])) # round up to whole numbers\n",
    "        clean_card_row[\"converted_energy_cost\"] = converted_energy_cost / len(card[\"attacks\"])\n",
    "        \n",
    "        resistance = 0\n",
    "        if \"resistances\" in card and card[\"resistances\"]:\n",
    "            if (\"×\" in card[\"resistances\"][0][\"value\"]):\n",
    "                filtered_string = ''.join([char for char in card[\"resistances\"][0][\"value\"] if char.isdigit()])\n",
    "                resulting_int = int(filtered_string)\n",
    "                resistance = int(card[\"hp\"]) * resulting_int\n",
    "            if (\"-\" in card[\"resistances\"][0][\"value\"]):\n",
    "                filtered_string = ''.join([char for char in card[\"resistances\"][0][\"value\"] if char.isdigit()])\n",
    "                resulting_int = int(filtered_string)\n",
    "                resistance = int(card[\"hp\"]) + resulting_int\n",
    "        else:\n",
    "            resistance = int(card[\"hp\"])\n",
    "        clean_card_row[\"resistance\"] = resistance\n",
    "\n",
    "        weakness = 0\n",
    "        if \"weaknesses\" in card and card[\"weaknesses\"]:\n",
    "            if (\"×\" in card[\"weaknesses\"][0][\"value\"]):\n",
    "                filtered_string = ''.join([char for char in card[\"weaknesses\"][0][\"value\"] if char.isdigit()])\n",
    "                resulting_int = int(filtered_string)\n",
    "                weakness = int(card[\"hp\"]) * resulting_int\n",
    "            if (\"+\" in card[\"weaknesses\"][0][\"value\"]):\n",
    "                filtered_string = ''.join([char for char in card[\"weaknesses\"][0][\"value\"] if char.isdigit()])\n",
    "                resulting_int = int(filtered_string)\n",
    "                weakness = int(card[\"hp\"]) + resulting_int\n",
    "            if (\"-\" in card[\"weaknesses\"][0][\"value\"]):\n",
    "                filtered_string = ''.join([char for char in card[\"weaknesses\"][0][\"value\"] if char.isdigit()])\n",
    "                resulting_int = int(filtered_string)\n",
    "                weakness = int(card[\"hp\"]) - resulting_int\n",
    "        else:\n",
    "            weakness = int(card[\"hp\"])\n",
    "        clean_card_row[\"weakness\"] = weakness\n",
    "\n",
    "        \n",
    "    except (KeyError, IndexError, ValueError):\n",
    "        #print(KeyError, IndexError, ValueError)\n",
    "        continue\n",
    "    \n",
    "    print(clean_card_row)\n",
    "    clean_cards.append(clean_card_row)\n",
    "\n",
    "print(len(clean_cards))\n",
    "df = pd.DataFrame(clean_cards)\n",
    "df.to_csv('cards.csv', mode='w', index=False)\n",
    "    "
   ]
  }
 ],
 "metadata": {
  "kernelspec": {
   "display_name": "Python 3",
   "language": "python",
   "name": "python3"
  },
  "language_info": {
   "codemirror_mode": {
    "name": "ipython",
    "version": 3
   },
   "file_extension": ".py",
   "mimetype": "text/x-python",
   "name": "python",
   "nbconvert_exporter": "python",
   "pygments_lexer": "ipython3",
   "version": "3.12.1"
  }
 },
 "nbformat": 4,
 "nbformat_minor": 2
}
